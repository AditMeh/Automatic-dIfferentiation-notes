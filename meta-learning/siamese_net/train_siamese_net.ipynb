{
  "nbformat": 4,
  "nbformat_minor": 0,
  "metadata": {
    "colab": {
      "name": "Siamese Net.ipynb",
      "provenance": [],
      "collapsed_sections": [],
      "authorship_tag": "ABX9TyO1lqzyHENXGQFE8SUTmlK2",
      "include_colab_link": true
    },
    "kernelspec": {
      "name": "python3",
      "display_name": "Python 3"
    },
    "language_info": {
      "name": "python"
    },
    "accelerator": "GPU"
  },
  "cells": [
    {
      "cell_type": "markdown",
      "metadata": {
        "id": "view-in-github",
        "colab_type": "text"
      },
      "source": [
        "<a href=\"https://colab.research.google.com/github/AditMeh/deep-learning/blob/main/meta-learning/siamese_net/train_siamese_net.ipynb\" target=\"_parent\"><img src=\"https://colab.research.google.com/assets/colab-badge.svg\" alt=\"Open In Colab\"/></a>"
      ]
    },
    {
      "cell_type": "code",
      "metadata": {
        "id": "0qTj49irI9De",
        "colab": {
          "base_uri": "https://localhost:8080/"
        },
        "outputId": "b4d74c94-8f3a-4f41-abaf-908c3f4bcca0"
      },
      "source": [
        "!git clone https://github.com/AditMeh/deep-learning"
      ],
      "execution_count": 1,
      "outputs": [
        {
          "output_type": "stream",
          "text": [
            "Cloning into 'deep-learning'...\n",
            "remote: Enumerating objects: 307, done.\u001b[K\n",
            "remote: Counting objects: 100% (307/307), done.\u001b[K\n",
            "remote: Compressing objects: 100% (225/225), done.\u001b[K\n",
            "remote: Total 307 (delta 143), reused 118 (delta 47), pack-reused 0\u001b[K\n",
            "Receiving objects: 100% (307/307), 24.39 MiB | 24.95 MiB/s, done.\n",
            "Resolving deltas: 100% (143/143), done.\n"
          ],
          "name": "stdout"
        }
      ]
    },
    {
      "cell_type": "code",
      "metadata": {
        "id": "ouxAmSGHJb2c"
      },
      "source": [
        "%%capture\n",
        "%cd ./deep-learning/meta-learning/siamese_net/\n",
        "!git clone https://github.com/brendenlake/omniglot\n",
        "%cd omniglot/python\n",
        "!unzip images_background.zip\n",
        "!unzip images_evaluation.zip\n",
        "%cd ../.."
      ],
      "execution_count": 2,
      "outputs": []
    },
    {
      "cell_type": "code",
      "metadata": {
        "id": "sPLIgu9XOqKF"
      },
      "source": [
        "import torch\n",
        "from torchvision.io import read_image, ImageReadMode\n",
        "from torch.utils.data import Dataset\n",
        "import cv2\n",
        "\n",
        "class Ommniglot_Dataset(Dataset):\n",
        "    def __init__(self, pairs, is_val, transform=None):\n",
        "        self.pairs = pairs\n",
        "        self.transform = transform\n",
        "        self.is_val = is_val\n",
        "\n",
        "    def __len__(self):\n",
        "        return len(self.pairs)\n",
        "\n",
        "    def __getitem__(self, idx):\n",
        "        path_1, path_2, label = self.pairs[idx]\n",
        "        # print(path_1, path_2)\n",
        "        img_1, img_2 = cv2.imread(path_1, 0), cv2.imread(path_2, 0)\n",
        "\n",
        "        img_1, img_2 = torch.Tensor(img_1), torch.Tensor(img_2)\n",
        "        label = torch.Tensor([label])\n",
        "        if self.transform:\n",
        "            img_1 = self.transform(img_1)\n",
        "            img_2 = self.transform(img_2)\n",
        "\n",
        "        return torch.unsqueeze(img_1.float(), 0), torch.unsqueeze(img_2.float(), 0), label.float()\n"
      ],
      "execution_count": 88,
      "outputs": []
    },
    {
      "cell_type": "code",
      "metadata": {
        "id": "7bB8MBEjLy4P"
      },
      "source": [
        "# from dataloader import Ommniglot_Dataset\n",
        "from torch.utils.data import DataLoader\n",
        "from utils import generate_random_pairs\n",
        "from model import SiameseNet\n",
        "from train import train\n",
        "import torch\n",
        "\n",
        "TRAIN_DATASET_PATH = \"omniglot/python/images_background/\"\n",
        "VALIDATION_DATASET_PATH = \"omniglot/python/images_evaluation/\"\n",
        "\n",
        "\n",
        "ds_train = generate_random_pairs(TRAIN_DATASET_PATH, 30000, train=True, )\n",
        "ds_val = generate_random_pairs(VALIDATION_DATASET_PATH, 10000, train=False)\n",
        "\n",
        "train_dataset = Ommniglot_Dataset(pairs=ds_train, is_val=False)\n",
        "\n",
        "val_dataset = Ommniglot_Dataset(pairs=ds_val, is_val=True)\n",
        "\n",
        "train_loader = DataLoader(\n",
        "    train_dataset, batch_size=32, shuffle=True)\n",
        "\n",
        "val_loader = DataLoader(\n",
        "    val_dataset, batch_size=32, shuffle=True)"
      ],
      "execution_count": 89,
      "outputs": []
    },
    {
      "cell_type": "code",
      "metadata": {
        "id": "NImfWIEqKxnt",
        "outputId": "bb9bc335-293c-4cd9-c844-18edd0cf774c",
        "colab": {
          "base_uri": "https://localhost:8080/",
          "height": 271
        }
      },
      "source": [
        "%matplotlib inline\n",
        "import matplotlib.pyplot as plt\n",
        "\n",
        "\n",
        "x1, x2, label = next(iter(val_loader))\n",
        "idx = 0\n",
        "\n",
        "\n",
        "images = [torch.squeeze(x1[idx]).cpu().detach().numpy(), torch.squeeze(x2[idx]).cpu().detach().numpy()]\n",
        "\n",
        "print(label[idx])\n",
        "\n",
        "w = 10\n",
        "h = 10\n",
        "fig = plt.figure(figsize=(8, 8))\n",
        "columns = 2\n",
        "rows = 1\n",
        "for i in range(1, columns*rows +1):\n",
        "    fig.add_subplot(rows, columns, i)\n",
        "    plt.imshow(images[i - 1], cmap='gray')\n",
        "plt.show()\n"
      ],
      "execution_count": 90,
      "outputs": [
        {
          "output_type": "stream",
          "text": [
            "tensor([1.])\n"
          ],
          "name": "stdout"
        },
        {
          "output_type": "display_data",
          "data": {
            "image/png": "[encoded data removed]",
            "text/plain": [
              "<Figure size 576x576 with 2 Axes>"
            ]
          },
          "metadata": {
            "tags": [],
            "needs_background": "light"
          }
        }
      ]
    },
    {
      "cell_type": "code",
      "metadata": {
        "id": "0d1O2sNKKwDd",
        "outputId": "c132f187-59e2-4eb5-899c-5ffb17a8891f",
        "colab": {
          "base_uri": "https://localhost:8080/",
          "height": 472
        }
      },
      "source": [
        "device = (torch.device('cuda') if torch.cuda.is_available()\n",
        "            else torch.device('cpu'))\n",
        "\n",
        "print(f\"Training on device {device}.\")\n",
        "\n",
        "net = SiameseNet().to(device=device)\n",
        "\n",
        "train(net, train_loader, val_loader, n_epochs=20,\n",
        "        lr=0.00001, device=device, batch_size=32, save_path=\"null\")"
      ],
      "execution_count": 91,
      "outputs": [
        {
          "output_type": "stream",
          "text": [
            "Training on device cuda.\n"
          ],
          "name": "stdout"
        },
        {
          "output_type": "stream",
          "text": [
            "/usr/local/lib/python3.7/dist-packages/torch/nn/functional.py:718: UserWarning: Named tensors and all their associated APIs are an experimental feature and subject to change. Please do not use them for anything important until they are released as stable. (Triggered internally at  /pytorch/c10/core/TensorImpl.h:1156.)\n",
            "  return torch.max_pool2d(input, kernel_size, stride, padding, dilation, ceil_mode)\n"
          ],
          "name": "stderr"
        },
        {
          "output_type": "stream",
          "text": [
            "Epoch 1, Train Loss 0.5113239080301607, Val Loss 0.5165703905085786, Val Accuracy 0.7589856230031949\n",
            "Epoch 2, Train Loss 0.2854385965748001, Val Loss 0.5145086555625684, Val Accuracy 0.7736621405750799\n",
            "Epoch 3, Train Loss 0.1506124254403465, Val Loss 0.5451557462493452, Val Accuracy 0.7883386581469649\n",
            "Epoch 4, Train Loss 0.07080360381568132, Val Loss 0.6259436599743633, Val Accuracy 0.784944089456869\n"
          ],
          "name": "stdout"
        },
        {
          "output_type": "error",
          "ename": "KeyboardInterrupt",
          "evalue": "ignored",
          "traceback": [
            "\u001b[0;31m---------------------------------------------------------------------------\u001b[0m",
            "\u001b[0;31mKeyboardInterrupt\u001b[0m                         Traceback (most recent call last)",
            "\u001b[0;32m<ipython-input-91-fef560bfe303>\u001b[0m in \u001b[0;36m<module>\u001b[0;34m()\u001b[0m\n\u001b[1;32m      7\u001b[0m \u001b[0;34m\u001b[0m\u001b[0m\n\u001b[1;32m      8\u001b[0m train(net, train_loader, val_loader, n_epochs=20,\n\u001b[0;32m----> 9\u001b[0;31m         lr=0.00001, device=device, batch_size=32, save_path=\"null\")\n\u001b[0m",
            "\u001b[0;32m/content/deep-learning/meta-learning/siamese_net/train.py\u001b[0m in \u001b[0;36mtrain\u001b[0;34m(net, train_loader, val_loader, n_epochs, lr, device, batch_size, save_path)\u001b[0m\n\u001b[1;32m     27\u001b[0m             \u001b[0moptimizer\u001b[0m\u001b[0;34m.\u001b[0m\u001b[0mstep\u001b[0m\u001b[0;34m(\u001b[0m\u001b[0;34m)\u001b[0m\u001b[0;34m\u001b[0m\u001b[0;34m\u001b[0m\u001b[0m\n\u001b[1;32m     28\u001b[0m \u001b[0;34m\u001b[0m\u001b[0m\n\u001b[0;32m---> 29\u001b[0;31m             \u001b[0mloss_train\u001b[0m \u001b[0;34m+=\u001b[0m \u001b[0mloss\u001b[0m\u001b[0;34m.\u001b[0m\u001b[0mitem\u001b[0m\u001b[0;34m(\u001b[0m\u001b[0;34m)\u001b[0m\u001b[0;34m\u001b[0m\u001b[0;34m\u001b[0m\u001b[0m\n\u001b[0m\u001b[1;32m     30\u001b[0m \u001b[0;34m\u001b[0m\u001b[0m\n\u001b[1;32m     31\u001b[0m         \u001b[0mloss_val\u001b[0m \u001b[0;34m=\u001b[0m \u001b[0;36m0.0\u001b[0m\u001b[0;34m\u001b[0m\u001b[0;34m\u001b[0m\u001b[0m\n",
            "\u001b[0;31mKeyboardInterrupt\u001b[0m: "
          ]
        }
      ]
    }
  ]
}