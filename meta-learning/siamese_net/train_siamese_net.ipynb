{
  "nbformat": 4,
  "nbformat_minor": 0,
  "metadata": {
    "colab": {
      "name": "Siamese Net.ipynb",
      "provenance": [],
      "collapsed_sections": [],
      "include_colab_link": true
    },
    "kernelspec": {
      "name": "python3",
      "display_name": "Python 3"
    },
    "language_info": {
      "name": "python"
    },
    "accelerator": "GPU"
  },
  "cells": [
    {
      "cell_type": "markdown",
      "metadata": {
        "id": "view-in-github",
        "colab_type": "text"
      },
      "source": [
        "<a href=\"https://colab.research.google.com/github/AditMeh/deep-learning/blob/main/meta-learning/siamese_net/train_siamese_net.ipynb\" target=\"_parent\"><img src=\"https://colab.research.google.com/assets/colab-badge.svg\" alt=\"Open In Colab\"/></a>"
      ]
    },
    {
      "cell_type": "code",
      "metadata": {
        "id": "0qTj49irI9De",
        "colab": {
          "base_uri": "https://localhost:8080/"
        },
        "outputId": "b65f49cd-ab40-4602-87c5-e97ffd16e8df"
      },
      "source": [
        "!git clone https://github.com/AditMeh/deep-learning"
      ],
      "execution_count": 1,
      "outputs": [
        {
          "output_type": "stream",
          "text": [
            "Cloning into 'deep-learning'...\n",
            "remote: Enumerating objects: 419, done.\u001b[K\n",
            "remote: Counting objects: 100% (419/419), done.\u001b[K\n",
            "remote: Compressing objects: 100% (291/291), done.\u001b[K\n",
            "remote: Total 419 (delta 206), reused 172 (delta 72), pack-reused 0\u001b[K\n",
            "Receiving objects: 100% (419/419), 24.45 MiB | 26.25 MiB/s, done.\n",
            "Resolving deltas: 100% (206/206), done.\n"
          ],
          "name": "stdout"
        }
      ]
    },
    {
      "cell_type": "code",
      "metadata": {
        "id": "ouxAmSGHJb2c"
      },
      "source": [
        "%%capture\n",
        "%cd ./deep-learning/meta-learning/siamese_net/\n",
        "!git clone https://github.com/brendenlake/omniglot\n",
        "%cd omniglot/python\n",
        "!unzip images_background.zip\n",
        "!unzip images_evaluation.zip\n",
        "%cd ../.."
      ],
      "execution_count": 2,
      "outputs": []
    },
    {
      "cell_type": "code",
      "metadata": {
        "id": "sPLIgu9XOqKF"
      },
      "source": [
        "from random import sample\n",
        "from dataloader import RandomPairSampler, Ommniglot_Dataset\n",
        "from torch.utils.data import DataLoader\n",
        "from utils import dataset_to_dicts\n",
        "from model import SiameseNet\n",
        "from train import train_fixed_dataset, train_random_samples\n",
        "import torch\n",
        "\n",
        "TRAIN_DATASET_PATH = \"omniglot/python/images_background/\"\n",
        "VALIDATION_DATASET_PATH = \"omniglot/python/images_evaluation/\"\n",
        "\n",
        "ds_train_structured, ds_train_unstructured = dataset_to_dicts(\n",
        "    TRAIN_DATASET_PATH)\n",
        "ds_val_structured, ds_val_unstructured = dataset_to_dicts(\n",
        "    VALIDATION_DATASET_PATH)\n",
        "\n",
        "train_dataset_random = RandomPairSampler(\n",
        "    dataset_dict=ds_train_unstructured, sample_mode=\"uniform\", is_val=False)\n",
        "\n",
        "val_dataset_random = RandomPairSampler(\n",
        "    dataset_dict=ds_val_unstructured, sample_mode=\"uniform\", is_val=True)\n",
        "\n",
        "train_loader_random = DataLoader(\n",
        "    train_dataset_random, batch_size=32, num_workers=2)\n",
        "\n",
        "val_loader_random = DataLoader(\n",
        "    val_dataset_random, batch_size=32, num_workers=2)"
      ],
      "execution_count": 3,
      "outputs": []
    },
    {
      "cell_type": "code",
      "metadata": {
        "id": "IAlSH2RSHYCc"
      },
      "source": [
        "train_dataset_fixed = Ommniglot_Dataset(30000,\n",
        "    dataset_dict=ds_train_structured, sample_mode=\"within alphabet\", is_val=False)\n",
        "\n",
        "val_dataset_fixed = Ommniglot_Dataset(10000,\n",
        "    dataset_dict=ds_val_structured, sample_mode=\"within alphabet\", is_val=True)\n",
        "\n",
        "train_loader_fixed = DataLoader(\n",
        "    train_dataset_fixed, batch_size=32, num_workers=2)\n",
        "\n",
        "val_loader_fixed = DataLoader(\n",
        "    val_dataset_fixed, batch_size=32, num_workers=2)"
      ],
      "execution_count": 4,
      "outputs": []
    },
    {
      "cell_type": "code",
      "metadata": {
        "id": "NImfWIEqKxnt",
        "colab": {
          "base_uri": "https://localhost:8080/",
          "height": 271
        },
        "outputId": "b82ec0ec-3404-4601-ce45-bc71b11d020f"
      },
      "source": [
        "%matplotlib inline\n",
        "import matplotlib.pyplot as plt\n",
        "\n",
        "x1, x2, label = next(iter(val_loader_fixed))\n",
        "idx = 0\n",
        "\n",
        "images = [torch.squeeze(x1[idx]).cpu().detach().numpy(), torch.squeeze(x2[idx]).cpu().detach().numpy()]\n",
        "\n",
        "print(label[idx])\n",
        "\n",
        "w = 10\n",
        "h = 10\n",
        "fig = plt.figure(figsize=(8, 8))\n",
        "columns = 2\n",
        "rows = 1\n",
        "for i in range(1, columns*rows +1):\n",
        "    fig.add_subplot(rows, columns, i)\n",
        "    plt.imshow(images[i - 1], cmap='gray')\n",
        "plt.show()"
      ],
      "execution_count": 5,
      "outputs": [
        {
          "output_type": "stream",
          "text": [
            "tensor([1.])\n"
          ],
          "name": "stdout"
        },
        {
          "output_type": "display_data",
          "data": {
            "image/png": "[encoded data removed]",
            "text/plain": [
              "<Figure size 576x576 with 2 Axes>"
            ]
          },
          "metadata": {
            "tags": [],
            "needs_background": "light"
          }
        }
      ]
    },
    {
      "cell_type": "code",
      "metadata": {
        "id": "0d1O2sNKKwDd",
        "colab": {
          "base_uri": "https://localhost:8080/"
        },
        "outputId": "54243276-39c4-4492-f7d8-dbc45d38c8bc"
      },
      "source": [
        "device = (torch.device('cuda') if torch.cuda.is_available()\n",
        "            else torch.device('cpu'))\n",
        "\n",
        "print(f\"Training on device {device}.\")\n",
        "\n",
        "net = SiameseNet().to(device=device)\n",
        "\n",
        "train_random_samples(net, train_loader_fixed, val_loader_fixed, samples_per_epoch=30000, samples_val=10000, n_epochs=20,\n",
        "        lr=0.001, device=device, batch_size=32, save_path=\"blank\")"
      ],
      "execution_count": null,
      "outputs": [
        {
          "output_type": "stream",
          "text": [
            "Training on device cuda.\n"
          ],
          "name": "stdout"
        },
        {
          "output_type": "stream",
          "text": [
            "\r  0%|          | 0/937 [00:00<?, ?it/s]/usr/local/lib/python3.7/dist-packages/torch/nn/functional.py:718: UserWarning: Named tensors and all their associated APIs are an experimental feature and subject to change. Please do not use them for anything important until they are released as stable. (Triggered internally at  /pytorch/c10/core/TensorImpl.h:1156.)\n",
            "  return torch.max_pool2d(input, kernel_size, stride, padding, dilation, ceil_mode)\n",
            " 12%|█▏        | 116/937 [00:10<01:09, 11.83it/s]"
          ],
          "name": "stderr"
        }
      ]
    },
    {
      "cell_type": "code",
      "metadata": {
        "id": "Elb81oG3ILlo"
      },
      "source": [
        "device = (torch.device('cuda') if torch.cuda.is_available()\n",
        "            else torch.device('cpu'))\n",
        "\n",
        "print(f\"Training on device {device}.\")\n",
        "\n",
        "net = SiameseNet().to(device=device)\n",
        "\n",
        "train_fixed_dataset(net, train_loader=train_loader_fixed, val_loader=val_loader_fixed, n_epochs=20, lr=0.00001, device=device, batch_size=32, save_path=\"wew\")"
      ],
      "execution_count": null,
      "outputs": []
    }
  ]
}