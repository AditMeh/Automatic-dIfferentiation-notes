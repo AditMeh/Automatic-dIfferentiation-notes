{
  "nbformat": 4,
  "nbformat_minor": 0,
  "metadata": {
    "colab": {
      "name": "ResNets.ipynb",
      "provenance": [],
      "authorship_tag": "ABX9TyPKwBLBwc9NbchTocBuzal+",
      "include_colab_link": true
    },
    "kernelspec": {
      "name": "python3",
      "display_name": "Python 3"
    }
  },
  "cells": [
    {
      "cell_type": "markdown",
      "metadata": {
        "id": "view-in-github",
        "colab_type": "text"
      },
      "source": [
        "<a href=\"https://colab.research.google.com/github/AditMeh/deep-learning/blob/main/ResNets.ipynb\" target=\"_parent\"><img src=\"https://colab.research.google.com/assets/colab-badge.svg\" alt=\"Open In Colab\"/></a>"
      ]
    },
    {
      "cell_type": "code",
      "metadata": {
        "id": "1u7shM_a0yBK"
      },
      "source": [
        "import tensorflow as tf\r\n",
        "import keras\r\n",
        "import numpy as np\r\n",
        "import matplotlib.pyplot as plt"
      ],
      "execution_count": 1,
      "outputs": []
    },
    {
      "cell_type": "code",
      "metadata": {
        "colab": {
          "base_uri": "https://localhost:8080/"
        },
        "id": "3NOu5iEH0_eI",
        "outputId": "69dc76a3-5f43-4179-bcc2-c70b65c678bb"
      },
      "source": [
        "import keras \r\n",
        "import numpy as np\r\n",
        "import tensorflow as tf\r\n",
        "import tensorflow.keras.backend as K\r\n",
        "\r\n",
        "(train_images, train_labels), (test_images, test_labels) = keras.datasets.cifar10.load_data()\r\n",
        "\r\n",
        "print(train_images.shape)\r\n",
        "print(train_labels.shape)\r\n",
        "print(test_images.shape)\r\n",
        "print(test_labels.shape)"
      ],
      "execution_count": 2,
      "outputs": [
        {
          "output_type": "stream",
          "text": [
            "Downloading data from https://www.cs.toronto.edu/~kriz/cifar-10-python.tar.gz\n",
            "170500096/170498071 [==============================] - 4s 0us/step\n",
            "(50000, 32, 32, 3)\n",
            "(50000, 1)\n",
            "(10000, 32, 32, 3)\n",
            "(10000, 1)\n"
          ],
          "name": "stdout"
        }
      ]
    },
    {
      "cell_type": "code",
      "metadata": {
        "id": "tNvkbyRo2KOO"
      },
      "source": [
        "from skimage.transform import resize\r\n",
        "from keras.utils import to_categorical\r\n",
        "import matplotlib.pyplot as plt\r\n",
        "import matplotlib.image as mpimg\r\n",
        "import random\r\n",
        "\r\n",
        "val_train_split = round(0.80*len(train_images))\r\n",
        "\r\n",
        "val_images, val_labels = train_images[val_train_split:], train_labels[val_train_split:]\r\n",
        "\r\n",
        "train_ds = tf.data.Dataset.from_tensor_slices((train_images, train_labels))\r\n",
        "test_ds = tf.data.Dataset.from_tensor_slices((test_images, test_labels))\r\n",
        "validation_ds = tf.data.Dataset.from_tensor_slices((val_images, val_labels))\r\n",
        "\r\n",
        "def process_images(image, label):\r\n",
        "    image = tf.image.resize(image, (277,277))\r\n",
        "    label =  tf.squeeze(tf.one_hot(label, depth  = 10))\r\n",
        "    return image, label\r\n",
        "\r\n",
        "train_dataset = (train_ds\r\n",
        "                  .map(process_images)\r\n",
        "                  .shuffle(buffer_size= 10)\r\n",
        "                  .batch(batch_size=32, drop_remainder=True))\r\n",
        "test_dataset = (test_ds\r\n",
        "                  .map(process_images)\r\n",
        "                  .shuffle(buffer_size=10)\r\n",
        "                  .batch(batch_size=32, drop_remainder=True))\r\n",
        "val_dataset = (validation_ds\r\n",
        "                  .map(process_images)\r\n",
        "                  .shuffle(buffer_size=10)\r\n",
        "                  .batch(batch_size=32, drop_remainder=True))\r\n"
      ],
      "execution_count": null,
      "outputs": []
    },
    {
      "cell_type": "code",
      "metadata": {
        "id": "MiETS5BK-2GP"
      },
      "source": [
        "class ResidualLayer(keras.layers.Layer):\r\n",
        "        def __init__(self, X, **kwargs):\r\n",
        "            self.X = X\r\n",
        "        def call(self, output):\r\n",
        "            return output + self.X"
      ],
      "execution_count": null,
      "outputs": []
    }
  ]
}