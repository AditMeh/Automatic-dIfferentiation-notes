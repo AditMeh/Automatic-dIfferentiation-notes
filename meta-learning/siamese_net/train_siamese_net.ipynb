{
  "nbformat": 4,
  "nbformat_minor": 0,
  "metadata": {
    "colab": {
      "name": "Siamese Net.ipynb",
      "provenance": [],
      "collapsed_sections": [],
      "include_colab_link": true
    },
    "kernelspec": {
      "name": "python3",
      "display_name": "Python 3"
    },
    "language_info": {
      "name": "python"
    },
    "accelerator": "GPU"
  },
  "cells": [
    {
      "cell_type": "markdown",
      "metadata": {
        "id": "view-in-github",
        "colab_type": "text"
      },
      "source": [
        "<a href=\"https://colab.research.google.com/github/AditMeh/deep-learning/blob/main/meta-learning/siamese_net/train_siamese_net.ipynb\" target=\"_parent\"><img src=\"https://colab.research.google.com/assets/colab-badge.svg\" alt=\"Open In Colab\"/></a>"
      ]
    },
    {
      "cell_type": "code",
      "metadata": {
        "id": "0qTj49irI9De",
        "colab": {
          "base_uri": "https://localhost:8080/"
        },
        "outputId": "2a33bc71-6ad9-4304-f27d-7fb3789aeca2"
      },
      "source": [
        "!git clone https://github.com/AditMeh/deep-learning"
      ],
      "execution_count": 1,
      "outputs": [
        {
          "output_type": "stream",
          "text": [
            "Cloning into 'deep-learning'...\n",
            "remote: Enumerating objects: 449, done.\u001b[K\n",
            "remote: Counting objects: 100% (449/449), done.\u001b[K\n",
            "remote: Compressing objects: 100% (310/310), done.\u001b[K\n",
            "remote: Total 449 (delta 225), reused 186 (delta 78), pack-reused 0\u001b[K\n",
            "Receiving objects: 100% (449/449), 24.51 MiB | 16.23 MiB/s, done.\n",
            "Resolving deltas: 100% (225/225), done.\n"
          ],
          "name": "stdout"
        }
      ]
    },
    {
      "cell_type": "code",
      "metadata": {
        "id": "ouxAmSGHJb2c"
      },
      "source": [
        "%%capture\n",
        "%cd ./deep-learning/meta-learning/siamese_net/\n",
        "!git clone https://github.com/brendenlake/omniglot\n",
        "%cd omniglot/python\n",
        "!unzip images_background.zip\n",
        "!unzip images_evaluation.zip\n",
        "%cd ../.."
      ],
      "execution_count": 2,
      "outputs": []
    },
    {
      "cell_type": "code",
      "metadata": {
        "id": "sPLIgu9XOqKF"
      },
      "source": [
        "from random import sample\n",
        "from dataloader import RandomPairSampler, Ommniglot_Dataset\n",
        "from torch.utils.data import DataLoader\n",
        "from utils import dataset_to_dicts\n",
        "from model import SiameseNet\n",
        "from train import train_fixed_dataset, train_random_samples\n",
        "import torch\n",
        "\n",
        "TRAIN_DATASET_PATH = \"omniglot/python/images_background/\"\n",
        "VALIDATION_DATASET_PATH = \"omniglot/python/images_evaluation/\"\n",
        "\n",
        "ds_train_structured, ds_train_unstructured = dataset_to_dicts(\n",
        "    TRAIN_DATASET_PATH)\n",
        "ds_val_structured, ds_val_unstructured = dataset_to_dicts(\n",
        "    VALIDATION_DATASET_PATH)"
      ],
      "execution_count": 3,
      "outputs": []
    },
    {
      "cell_type": "code",
      "metadata": {
        "id": "sgrEhlk8qfb8"
      },
      "source": [
        "from torchvision import transforms\n",
        "\n",
        "transforms_seq = transforms.Compose([transforms.RandomRotation((-20, 20)),\n",
        "                                     transforms.GaussianBlur(3, (0.1, 5))])"
      ],
      "execution_count": 7,
      "outputs": []
    },
    {
      "cell_type": "code",
      "metadata": {
        "id": "_zTBTDmmqe3E",
        "outputId": "4a1c6d9e-675e-4279-a6b4-6e91c0a8e577",
        "colab": {
          "base_uri": "https://localhost:8080/",
          "height": 248
        }
      },
      "source": [
        "train_dataset_random = RandomPairSampler(\n",
        "    dataset_dict=ds_train_unstructured, sample_mode=\"uniform\", is_val=False, transforms=transforms_seq)\n",
        "\n",
        "val_dataset_random = RandomPairSampler(\n",
        "    dataset_dict=ds_val_unstructured, sample_mode=\"uniform\", is_val=True, transforms=transforms_seq)\n",
        "\n",
        "train_loader_random = DataLoader(\n",
        "    train_dataset_random, batch_size=32, num_workers=2)\n",
        "\n",
        "val_loader_random = DataLoader(\n",
        "    val_dataset_random, batch_size=32, num_workers=2)"
      ],
      "execution_count": 8,
      "outputs": [
        {
          "output_type": "error",
          "ename": "TypeError",
          "evalue": "ignored",
          "traceback": [
            "\u001b[0;31m---------------------------------------------------------------------------\u001b[0m",
            "\u001b[0;31mTypeError\u001b[0m                                 Traceback (most recent call last)",
            "\u001b[0;32m<ipython-input-8-cd041e4f50b2>\u001b[0m in \u001b[0;36m<module>\u001b[0;34m()\u001b[0m\n\u001b[1;32m      1\u001b[0m train_dataset_random = RandomPairSampler(\n\u001b[0;32m----> 2\u001b[0;31m     dataset_dict=ds_train_unstructured, sample_mode=\"uniform\", is_val=False, transforms=transforms_seq)\n\u001b[0m\u001b[1;32m      3\u001b[0m \u001b[0;34m\u001b[0m\u001b[0m\n\u001b[1;32m      4\u001b[0m val_dataset_random = RandomPairSampler(\n\u001b[1;32m      5\u001b[0m     dataset_dict=ds_val_unstructured, sample_mode=\"uniform\", is_val=True, transforms=transforms_seq)\n",
            "\u001b[0;31mTypeError\u001b[0m: __init__() got an unexpected keyword argument 'transforms'"
          ]
        }
      ]
    },
    {
      "cell_type": "code",
      "metadata": {
        "id": "IAlSH2RSHYCc"
      },
      "source": [
        "train_dataset_fixed = Ommniglot_Dataset(30000,\n",
        "    dataset_dict=ds_train_structured, sample_mode=\"within alphabet\", is_val=False, transforms=transforms_seq)\n",
        "\n",
        "val_dataset_fixed = Ommniglot_Dataset(10000,\n",
        "    dataset_dict=ds_val_structured, sample_mode=\"within alphabet\", is_val=True, transforms=transforms_seq)\n",
        "\n",
        "train_loader_fixed = DataLoader(\n",
        "    train_dataset_fixed, batch_size=32, num_workers=2)\n",
        "\n",
        "val_loader_fixed = DataLoader(\n",
        "    val_dataset_fixed, batch_size=32, num_workers=2)"
      ],
      "execution_count": 4,
      "outputs": []
    },
    {
      "cell_type": "code",
      "metadata": {
        "id": "G3Ecz3RaWdUR",
        "outputId": "bea529e7-d419-4c50-eb23-de545f895293",
        "colab": {
          "base_uri": "https://localhost:8080/",
          "height": 952
        }
      },
      "source": [
        "from dataloader import create_task_dataloader\n",
        "\n",
        "from utils import create_task_files\n",
        "\n",
        "pairs = create_task_files(ds_train_structured, 10, sample_mode=\"within alphabet\")\n",
        "\n",
        "loader = create_task_dataloader(pairs, 10)\n",
        "\n",
        "net = SiameseNet()\n",
        "\n",
        "for x1, x2, label in loader:\n",
        "    print(label)\n",
        "\n"
      ],
      "execution_count": 5,
      "outputs": [
        {
          "output_type": "error",
          "ename": "TypeError",
          "evalue": "ignored",
          "traceback": [
            "\u001b[0;31m---------------------------------------------------------------------------\u001b[0m",
            "\u001b[0;31mTypeError\u001b[0m                                 Traceback (most recent call last)",
            "\u001b[0;32m<ipython-input-5-87640a25c8c9>\u001b[0m in \u001b[0;36m<module>\u001b[0;34m()\u001b[0m\n\u001b[1;32m      9\u001b[0m \u001b[0mnet\u001b[0m \u001b[0;34m=\u001b[0m \u001b[0mSiameseNet\u001b[0m\u001b[0;34m(\u001b[0m\u001b[0;34m)\u001b[0m\u001b[0;34m\u001b[0m\u001b[0;34m\u001b[0m\u001b[0m\n\u001b[1;32m     10\u001b[0m \u001b[0;34m\u001b[0m\u001b[0m\n\u001b[0;32m---> 11\u001b[0;31m \u001b[0;32mfor\u001b[0m \u001b[0mx1\u001b[0m\u001b[0;34m,\u001b[0m \u001b[0mx2\u001b[0m\u001b[0;34m,\u001b[0m \u001b[0mlabel\u001b[0m \u001b[0;32min\u001b[0m \u001b[0mloader\u001b[0m\u001b[0;34m:\u001b[0m\u001b[0;34m\u001b[0m\u001b[0;34m\u001b[0m\u001b[0m\n\u001b[0m\u001b[1;32m     12\u001b[0m     \u001b[0mprint\u001b[0m\u001b[0;34m(\u001b[0m\u001b[0mlabel\u001b[0m\u001b[0;34m)\u001b[0m\u001b[0;34m\u001b[0m\u001b[0;34m\u001b[0m\u001b[0m\n\u001b[1;32m     13\u001b[0m \u001b[0;34m\u001b[0m\u001b[0m\n",
            "\u001b[0;32m/usr/local/lib/python3.7/dist-packages/torch/utils/data/dataloader.py\u001b[0m in \u001b[0;36m__next__\u001b[0;34m(self)\u001b[0m\n\u001b[1;32m    519\u001b[0m             \u001b[0;32mif\u001b[0m \u001b[0mself\u001b[0m\u001b[0;34m.\u001b[0m\u001b[0m_sampler_iter\u001b[0m \u001b[0;32mis\u001b[0m \u001b[0;32mNone\u001b[0m\u001b[0;34m:\u001b[0m\u001b[0;34m\u001b[0m\u001b[0;34m\u001b[0m\u001b[0m\n\u001b[1;32m    520\u001b[0m                 \u001b[0mself\u001b[0m\u001b[0;34m.\u001b[0m\u001b[0m_reset\u001b[0m\u001b[0;34m(\u001b[0m\u001b[0;34m)\u001b[0m\u001b[0;34m\u001b[0m\u001b[0;34m\u001b[0m\u001b[0m\n\u001b[0;32m--> 521\u001b[0;31m             \u001b[0mdata\u001b[0m \u001b[0;34m=\u001b[0m \u001b[0mself\u001b[0m\u001b[0;34m.\u001b[0m\u001b[0m_next_data\u001b[0m\u001b[0;34m(\u001b[0m\u001b[0;34m)\u001b[0m\u001b[0;34m\u001b[0m\u001b[0;34m\u001b[0m\u001b[0m\n\u001b[0m\u001b[1;32m    522\u001b[0m             \u001b[0mself\u001b[0m\u001b[0;34m.\u001b[0m\u001b[0m_num_yielded\u001b[0m \u001b[0;34m+=\u001b[0m \u001b[0;36m1\u001b[0m\u001b[0;34m\u001b[0m\u001b[0;34m\u001b[0m\u001b[0m\n\u001b[1;32m    523\u001b[0m             \u001b[0;32mif\u001b[0m \u001b[0mself\u001b[0m\u001b[0;34m.\u001b[0m\u001b[0m_dataset_kind\u001b[0m \u001b[0;34m==\u001b[0m \u001b[0m_DatasetKind\u001b[0m\u001b[0;34m.\u001b[0m\u001b[0mIterable\u001b[0m \u001b[0;32mand\u001b[0m\u001b[0;31m \u001b[0m\u001b[0;31m\\\u001b[0m\u001b[0;34m\u001b[0m\u001b[0;34m\u001b[0m\u001b[0m\n",
            "\u001b[0;32m/usr/local/lib/python3.7/dist-packages/torch/utils/data/dataloader.py\u001b[0m in \u001b[0;36m_next_data\u001b[0;34m(self)\u001b[0m\n\u001b[1;32m   1201\u001b[0m             \u001b[0;32melse\u001b[0m\u001b[0;34m:\u001b[0m\u001b[0;34m\u001b[0m\u001b[0;34m\u001b[0m\u001b[0m\n\u001b[1;32m   1202\u001b[0m                 \u001b[0;32mdel\u001b[0m \u001b[0mself\u001b[0m\u001b[0;34m.\u001b[0m\u001b[0m_task_info\u001b[0m\u001b[0;34m[\u001b[0m\u001b[0midx\u001b[0m\u001b[0;34m]\u001b[0m\u001b[0;34m\u001b[0m\u001b[0;34m\u001b[0m\u001b[0m\n\u001b[0;32m-> 1203\u001b[0;31m                 \u001b[0;32mreturn\u001b[0m \u001b[0mself\u001b[0m\u001b[0;34m.\u001b[0m\u001b[0m_process_data\u001b[0m\u001b[0;34m(\u001b[0m\u001b[0mdata\u001b[0m\u001b[0;34m)\u001b[0m\u001b[0;34m\u001b[0m\u001b[0;34m\u001b[0m\u001b[0m\n\u001b[0m\u001b[1;32m   1204\u001b[0m \u001b[0;34m\u001b[0m\u001b[0m\n\u001b[1;32m   1205\u001b[0m     \u001b[0;32mdef\u001b[0m \u001b[0m_try_put_index\u001b[0m\u001b[0;34m(\u001b[0m\u001b[0mself\u001b[0m\u001b[0;34m)\u001b[0m\u001b[0;34m:\u001b[0m\u001b[0;34m\u001b[0m\u001b[0;34m\u001b[0m\u001b[0m\n",
            "\u001b[0;32m/usr/local/lib/python3.7/dist-packages/torch/utils/data/dataloader.py\u001b[0m in \u001b[0;36m_process_data\u001b[0;34m(self, data)\u001b[0m\n\u001b[1;32m   1227\u001b[0m         \u001b[0mself\u001b[0m\u001b[0;34m.\u001b[0m\u001b[0m_try_put_index\u001b[0m\u001b[0;34m(\u001b[0m\u001b[0;34m)\u001b[0m\u001b[0;34m\u001b[0m\u001b[0;34m\u001b[0m\u001b[0m\n\u001b[1;32m   1228\u001b[0m         \u001b[0;32mif\u001b[0m \u001b[0misinstance\u001b[0m\u001b[0;34m(\u001b[0m\u001b[0mdata\u001b[0m\u001b[0;34m,\u001b[0m \u001b[0mExceptionWrapper\u001b[0m\u001b[0;34m)\u001b[0m\u001b[0;34m:\u001b[0m\u001b[0;34m\u001b[0m\u001b[0;34m\u001b[0m\u001b[0m\n\u001b[0;32m-> 1229\u001b[0;31m             \u001b[0mdata\u001b[0m\u001b[0;34m.\u001b[0m\u001b[0mreraise\u001b[0m\u001b[0;34m(\u001b[0m\u001b[0;34m)\u001b[0m\u001b[0;34m\u001b[0m\u001b[0;34m\u001b[0m\u001b[0m\n\u001b[0m\u001b[1;32m   1230\u001b[0m         \u001b[0;32mreturn\u001b[0m \u001b[0mdata\u001b[0m\u001b[0;34m\u001b[0m\u001b[0;34m\u001b[0m\u001b[0m\n\u001b[1;32m   1231\u001b[0m \u001b[0;34m\u001b[0m\u001b[0m\n",
            "\u001b[0;32m/usr/local/lib/python3.7/dist-packages/torch/_utils.py\u001b[0m in \u001b[0;36mreraise\u001b[0;34m(self)\u001b[0m\n\u001b[1;32m    423\u001b[0m             \u001b[0;31m# have message field\u001b[0m\u001b[0;34m\u001b[0m\u001b[0;34m\u001b[0m\u001b[0;34m\u001b[0m\u001b[0m\n\u001b[1;32m    424\u001b[0m             \u001b[0;32mraise\u001b[0m \u001b[0mself\u001b[0m\u001b[0;34m.\u001b[0m\u001b[0mexc_type\u001b[0m\u001b[0;34m(\u001b[0m\u001b[0mmessage\u001b[0m\u001b[0;34m=\u001b[0m\u001b[0mmsg\u001b[0m\u001b[0;34m)\u001b[0m\u001b[0;34m\u001b[0m\u001b[0;34m\u001b[0m\u001b[0m\n\u001b[0;32m--> 425\u001b[0;31m         \u001b[0;32mraise\u001b[0m \u001b[0mself\u001b[0m\u001b[0;34m.\u001b[0m\u001b[0mexc_type\u001b[0m\u001b[0;34m(\u001b[0m\u001b[0mmsg\u001b[0m\u001b[0;34m)\u001b[0m\u001b[0;34m\u001b[0m\u001b[0;34m\u001b[0m\u001b[0m\n\u001b[0m\u001b[1;32m    426\u001b[0m \u001b[0;34m\u001b[0m\u001b[0m\n\u001b[1;32m    427\u001b[0m \u001b[0;34m\u001b[0m\u001b[0m\n",
            "\u001b[0;31mTypeError\u001b[0m: Caught TypeError in DataLoader worker process 0.\nOriginal Traceback (most recent call last):\n  File \"/usr/local/lib/python3.7/dist-packages/torch/utils/data/_utils/worker.py\", line 287, in _worker_loop\n    data = fetcher.fetch(index)\n  File \"/usr/local/lib/python3.7/dist-packages/torch/utils/data/_utils/fetch.py\", line 47, in fetch\n    return self.collate_fn(data)\n  File \"/usr/local/lib/python3.7/dist-packages/torch/utils/data/_utils/collate.py\", line 84, in default_collate\n    return [default_collate(samples) for samples in transposed]\n  File \"/usr/local/lib/python3.7/dist-packages/torch/utils/data/_utils/collate.py\", line 84, in <listcomp>\n    return [default_collate(samples) for samples in transposed]\n  File \"/usr/local/lib/python3.7/dist-packages/torch/utils/data/_utils/collate.py\", line 86, in default_collate\n    raise TypeError(default_collate_err_msg_format.format(elem_type))\nTypeError: default_collate: batch must contain tensors, numpy arrays, numbers, dicts or lists; found <class 'builtin_function_or_method'>\n"
          ]
        }
      ]
    },
    {
      "cell_type": "code",
      "metadata": {
        "id": "NImfWIEqKxnt",
        "colab": {
          "base_uri": "https://localhost:8080/",
          "height": 271
        },
        "outputId": "9ba75804-00c4-4505-e793-2a3e647e6bf8"
      },
      "source": [
        "%matplotlib inline\n",
        "import matplotlib.pyplot as plt\n",
        "\n",
        "x1, x2, label = next(iter(val_loader_fixed))\n",
        "idx = 0\n",
        "\n",
        "images = [torch.squeeze(x1[idx]).cpu().detach().numpy(), torch.squeeze(x2[idx]).cpu().detach().numpy()]\n",
        "\n",
        "print(label[idx])\n",
        "\n",
        "w = 10\n",
        "h = 10\n",
        "fig = plt.figure(figsize=(8, 8))\n",
        "columns = 2\n",
        "rows = 1\n",
        "for i in range(1, columns*rows +1):\n",
        "    fig.add_subplot(rows, columns, i)\n",
        "    plt.imshow(images[i - 1], cmap='gray')\n",
        "plt.show()"
      ],
      "execution_count": 5,
      "outputs": [
        {
          "output_type": "stream",
          "text": [
            "tensor([1.])\n"
          ],
          "name": "stdout"
        },
        {
          "output_type": "display_data",
          "data": {
            "image/png": "[encoded data removed]",
            "text/plain": [
              "<Figure size 576x576 with 2 Axes>"
            ]
          },
          "metadata": {
            "tags": [],
            "needs_background": "light"
          }
        }
      ]
    },
    {
      "cell_type": "code",
      "metadata": {
        "id": "0d1O2sNKKwDd",
        "colab": {
          "base_uri": "https://localhost:8080/"
        },
        "outputId": "7572ff0a-54dd-429e-efb1-655104caad84"
      },
      "source": [
        "device = (torch.device('cuda') if torch.cuda.is_available()\n",
        "            else torch.device('cpu'))\n",
        "\n",
        "print(f\"Training on device {device}.\")\n",
        "\n",
        "net = SiameseNet().to(device=device)\n",
        "\n",
        "val_loss_history_random, train_loss_history_random = train_random_samples(net, train_loader_fixed, val_loader_fixed, samples_per_epoch=30000, samples_val=10000, n_epochs=20,\n",
        "        lr=0.00001, device=device, batch_size=32, save_path=\"blank\")"
      ],
      "execution_count": null,
      "outputs": [
        {
          "output_type": "stream",
          "text": [
            "Training on device cuda.\n"
          ],
          "name": "stdout"
        },
        {
          "output_type": "stream",
          "text": [
            "  0%|          | 0/937 [00:00<?, ?it/s]"
          ],
          "name": "stderr"
        },
        {
          "output_type": "stream",
          "text": [
            "Epoch 1, Train Loss 0.6000342074873098, Val Loss 0.5641228201297613, Val Accuracy 0.711738782051282\n"
          ],
          "name": "stdout"
        },
        {
          "output_type": "stream",
          "text": [
            "  0%|          | 0/937 [00:00<?, ?it/s]"
          ],
          "name": "stderr"
        },
        {
          "output_type": "stream",
          "text": [
            "Epoch 2, Train Loss 0.48992011393147067, Val Loss 0.5277332163009888, Val Accuracy 0.7392828525641025\n"
          ],
          "name": "stdout"
        },
        {
          "output_type": "stream",
          "text": [
            "  0%|          | 0/937 [00:00<?, ?it/s]"
          ],
          "name": "stderr"
        },
        {
          "output_type": "stream",
          "text": [
            "Epoch 3, Train Loss 0.4049815472887318, Val Loss 0.4989303598801295, Val Accuracy 0.7624198717948718\n"
          ],
          "name": "stdout"
        },
        {
          "output_type": "stream",
          "text": [
            "  0%|          | 0/937 [00:00<?, ?it/s]"
          ],
          "name": "stderr"
        },
        {
          "output_type": "stream",
          "text": [
            "Epoch 4, Train Loss 0.3233006186107434, Val Loss 0.47214431048203737, Val Accuracy 0.7816506410256411\n"
          ],
          "name": "stdout"
        },
        {
          "output_type": "stream",
          "text": [
            "  0%|          | 0/937 [00:00<?, ?it/s]"
          ],
          "name": "stderr"
        },
        {
          "output_type": "stream",
          "text": [
            "Epoch 5, Train Loss 0.25444986311800327, Val Loss 0.47276809935768443, Val Accuracy 0.7748397435897436\n"
          ],
          "name": "stdout"
        },
        {
          "output_type": "stream",
          "text": [
            "  0%|          | 0/937 [00:00<?, ?it/s]"
          ],
          "name": "stderr"
        },
        {
          "output_type": "stream",
          "text": [
            "Epoch 6, Train Loss 0.1997978774037534, Val Loss 0.4829854622769814, Val Accuracy 0.7736378205128205\n"
          ],
          "name": "stdout"
        },
        {
          "output_type": "stream",
          "text": [
            "  0%|          | 0/937 [00:00<?, ?it/s]"
          ],
          "name": "stderr"
        },
        {
          "output_type": "stream",
          "text": [
            "Epoch 7, Train Loss 0.15011856275567886, Val Loss 0.4622368496388961, Val Accuracy 0.7899639423076923\n"
          ],
          "name": "stdout"
        },
        {
          "output_type": "stream",
          "text": [
            "  0%|          | 0/937 [00:00<?, ?it/s]"
          ],
          "name": "stderr"
        },
        {
          "output_type": "stream",
          "text": [
            "Epoch 8, Train Loss 0.11220945057279272, Val Loss 0.45117878154493296, Val Accuracy 0.7975761217948718\n"
          ],
          "name": "stdout"
        },
        {
          "output_type": "stream",
          "text": [
            "  0%|          | 0/937 [00:00<?, ?it/s]"
          ],
          "name": "stderr"
        },
        {
          "output_type": "stream",
          "text": [
            "Epoch 9, Train Loss 0.08273675367077107, Val Loss 0.4369134559081151, Val Accuracy 0.8053886217948718\n"
          ],
          "name": "stdout"
        },
        {
          "output_type": "stream",
          "text": [
            "  0%|          | 0/937 [00:00<?, ?it/s]"
          ],
          "name": "stderr"
        },
        {
          "output_type": "stream",
          "text": [
            "Epoch 10, Train Loss 0.058849792044884115, Val Loss 0.43780381710101396, Val Accuracy 0.8107972756410257\n"
          ],
          "name": "stdout"
        },
        {
          "output_type": "stream",
          "text": [
            "  0%|          | 0/937 [00:00<?, ?it/s]"
          ],
          "name": "stderr"
        },
        {
          "output_type": "stream",
          "text": [
            "Epoch 11, Train Loss 0.04058260801809829, Val Loss 0.4584862369661912, Val Accuracy 0.8057892628205128\n"
          ],
          "name": "stdout"
        },
        {
          "output_type": "stream",
          "text": [
            "  0%|          | 0/937 [00:00<?, ?it/s]"
          ],
          "name": "stderr"
        },
        {
          "output_type": "stream",
          "text": [
            "Epoch 12, Train Loss 0.02716544189708051, Val Loss 0.48673205932554525, Val Accuracy 0.7963741987179487\n"
          ],
          "name": "stdout"
        },
        {
          "output_type": "stream",
          "text": [
            "  0%|          | 0/937 [00:00<?, ?it/s]"
          ],
          "name": "stderr"
        },
        {
          "output_type": "stream",
          "text": [
            "Epoch 13, Train Loss 0.01830043038353324, Val Loss 0.48477688713524586, Val Accuracy 0.8011818910256411\n"
          ],
          "name": "stdout"
        },
        {
          "output_type": "stream",
          "text": [
            "  0%|          | 0/937 [00:00<?, ?it/s]"
          ],
          "name": "stderr"
        },
        {
          "output_type": "stream",
          "text": [
            "Epoch 14, Train Loss 0.012590821447763334, Val Loss 0.48429008095692366, Val Accuracy 0.8064903846153846\n"
          ],
          "name": "stdout"
        },
        {
          "output_type": "stream",
          "text": [
            "  0%|          | 0/937 [00:00<?, ?it/s]"
          ],
          "name": "stderr"
        },
        {
          "output_type": "stream",
          "text": [
            "Epoch 15, Train Loss 0.008852727326545606, Val Loss 0.48599052718148017, Val Accuracy 0.809395032051282\n",
            "Epoch    15: reducing learning rate of group 0 to 1.0000e-06.\n"
          ],
          "name": "stdout"
        },
        {
          "output_type": "stream",
          "text": [
            "  0%|          | 0/937 [00:00<?, ?it/s]"
          ],
          "name": "stderr"
        },
        {
          "output_type": "stream",
          "text": [
            "Epoch 16, Train Loss 0.012349056602051142, Val Loss 0.4869980387962781, Val Accuracy 0.809395032051282\n"
          ],
          "name": "stdout"
        },
        {
          "output_type": "stream",
          "text": [
            "  0%|          | 0/937 [00:00<?, ?it/s]"
          ],
          "name": "stderr"
        },
        {
          "output_type": "stream",
          "text": [
            "Epoch 17, Train Loss 0.00834807941492293, Val Loss 0.4914081806364732, Val Accuracy 0.8102964743589743\n"
          ],
          "name": "stdout"
        },
        {
          "output_type": "stream",
          "text": [
            "  0%|          | 0/937 [00:00<?, ?it/s]"
          ],
          "name": "stderr"
        },
        {
          "output_type": "stream",
          "text": [
            "Epoch 18, Train Loss 0.006690426626746625, Val Loss 0.49416560956682914, Val Accuracy 0.8102964743589743\n"
          ],
          "name": "stdout"
        },
        {
          "output_type": "stream",
          "text": [
            "  0%|          | 0/937 [00:00<?, ?it/s]"
          ],
          "name": "stderr"
        },
        {
          "output_type": "stream",
          "text": [
            "Epoch 19, Train Loss 0.005533060381236698, Val Loss 0.49683842898752445, Val Accuracy 0.8111979166666666\n"
          ],
          "name": "stdout"
        },
        {
          "output_type": "stream",
          "text": [
            "100%|█████████▉| 311/312 [00:10<00:00, 30.63it/s]"
          ],
          "name": "stderr"
        },
        {
          "output_type": "stream",
          "text": [
            "Epoch 20, Train Loss 0.004628068004389916, Val Loss 0.4995612407055421, Val Accuracy 0.8111979166666666\n"
          ],
          "name": "stdout"
        }
      ]
    },
    {
      "cell_type": "code",
      "metadata": {
        "colab": {
          "base_uri": "https://localhost:8080/"
        },
        "id": "Elb81oG3ILlo",
        "outputId": "38a0ad07-6734-442f-c8de-6d7c5cb00d6c"
      },
      "source": [
        "device = (torch.device('cuda') if torch.cuda.is_available()\n",
        "            else torch.device('cpu'))\n",
        "\n",
        "print(f\"Training on device {device}.\")\n",
        "\n",
        "net = SiameseNet().to(device=device)\n",
        "\n",
        "val_loss_history_fixed, train_loss_history_fixed = train_fixed_dataset(net, train_loader=train_loader_fixed, val_loader=val_loader_fixed, n_epochs=20, lr=0.00001, device=device, batch_size=32, save_path=\"wew\")"
      ],
      "execution_count": null,
      "outputs": [
        {
          "output_type": "stream",
          "text": [
            "Training on device cuda.\n"
          ],
          "name": "stdout"
        },
        {
          "output_type": "stream",
          "text": [
            "100%|██████████| 938/938 [01:25<00:00, 10.98it/s]\n",
            "100%|██████████| 313/313 [00:10<00:00, 30.66it/s]\n",
            "  0%|          | 0/938 [00:00<?, ?it/s]"
          ],
          "name": "stderr"
        },
        {
          "output_type": "stream",
          "text": [
            "Epoch 1, Train Loss 0.05460861844186204, Val Loss 0.01752748943793888, Val Accuracy 0.7104632587859425\n"
          ],
          "name": "stdout"
        },
        {
          "output_type": "stream",
          "text": [
            "100%|██████████| 938/938 [01:25<00:00, 10.99it/s]\n",
            "100%|██████████| 313/313 [00:10<00:00, 30.44it/s]\n",
            "  0%|          | 0/938 [00:00<?, ?it/s]"
          ],
          "name": "stderr"
        },
        {
          "output_type": "stream",
          "text": [
            "Epoch 2, Train Loss 0.043843543287902215, Val Loss 0.01625787222924562, Val Accuracy 0.7493011182108626\n"
          ],
          "name": "stdout"
        },
        {
          "output_type": "stream",
          "text": [
            "100%|██████████| 938/938 [01:25<00:00, 10.96it/s]\n",
            "100%|██████████| 313/313 [00:10<00:00, 30.05it/s]\n",
            "  0%|          | 0/938 [00:00<?, ?it/s]"
          ],
          "name": "stderr"
        },
        {
          "output_type": "stream",
          "text": [
            "Epoch 3, Train Loss 0.035243360289988424, Val Loss 0.01504674839962738, Val Accuracy 0.7777555910543131\n"
          ],
          "name": "stdout"
        },
        {
          "output_type": "stream",
          "text": [
            "100%|██████████| 938/938 [01:25<00:00, 10.95it/s]\n",
            "100%|██████████| 313/313 [00:10<00:00, 30.57it/s]\n",
            "  0%|          | 0/938 [00:00<?, ?it/s]"
          ],
          "name": "stderr"
        },
        {
          "output_type": "stream",
          "text": [
            "Epoch 4, Train Loss 0.02720965846730307, Val Loss 0.01446506641388606, Val Accuracy 0.7877396166134185\n"
          ],
          "name": "stdout"
        },
        {
          "output_type": "stream",
          "text": [
            "100%|██████████| 938/938 [01:25<00:00, 11.01it/s]\n",
            "100%|██████████| 313/313 [00:10<00:00, 30.45it/s]\n",
            "  0%|          | 0/938 [00:00<?, ?it/s]"
          ],
          "name": "stderr"
        },
        {
          "output_type": "stream",
          "text": [
            "Epoch 5, Train Loss 0.020586951554696354, Val Loss 0.014520242805786121, Val Accuracy 0.7852436102236422\n"
          ],
          "name": "stdout"
        },
        {
          "output_type": "stream",
          "text": [
            "100%|██████████| 938/938 [01:25<00:00, 11.01it/s]\n",
            "100%|██████████| 313/313 [00:10<00:00, 30.71it/s]\n",
            "  0%|          | 0/938 [00:00<?, ?it/s]"
          ],
          "name": "stderr"
        },
        {
          "output_type": "stream",
          "text": [
            "Epoch 6, Train Loss 0.016062089612487312, Val Loss 0.014560508775337341, Val Accuracy 0.7859424920127795\n"
          ],
          "name": "stdout"
        },
        {
          "output_type": "stream",
          "text": [
            "100%|██████████| 938/938 [01:24<00:00, 11.04it/s]\n",
            "100%|██████████| 313/313 [00:10<00:00, 30.32it/s]\n",
            "  0%|          | 0/938 [00:00<?, ?it/s]"
          ],
          "name": "stderr"
        },
        {
          "output_type": "stream",
          "text": [
            "Epoch 7, Train Loss 0.012694498065847177, Val Loss 0.014002906234440999, Val Accuracy 0.7970247603833865\n"
          ],
          "name": "stdout"
        },
        {
          "output_type": "stream",
          "text": [
            "100%|██████████| 938/938 [01:25<00:00, 10.97it/s]\n",
            "100%|██████████| 313/313 [00:10<00:00, 30.48it/s]\n",
            "  0%|          | 0/938 [00:00<?, ?it/s]"
          ],
          "name": "stderr"
        },
        {
          "output_type": "stream",
          "text": [
            "Epoch 8, Train Loss 0.009391504948357709, Val Loss 0.013444597210985022, Val Accuracy 0.8091054313099042\n"
          ],
          "name": "stdout"
        },
        {
          "output_type": "stream",
          "text": [
            "100%|██████████| 938/938 [01:25<00:00, 11.01it/s]\n",
            "100%|██████████| 313/313 [00:10<00:00, 30.39it/s]\n",
            "  0%|          | 0/938 [00:00<?, ?it/s]"
          ],
          "name": "stderr"
        },
        {
          "output_type": "stream",
          "text": [
            "Epoch 9, Train Loss 0.006604882063918387, Val Loss 0.013526213048888852, Val Accuracy 0.8137979233226837\n"
          ],
          "name": "stdout"
        },
        {
          "output_type": "stream",
          "text": [
            "100%|██████████| 938/938 [01:25<00:00, 11.01it/s]\n",
            "100%|██████████| 313/313 [00:10<00:00, 30.42it/s]\n",
            "  0%|          | 0/938 [00:00<?, ?it/s]"
          ],
          "name": "stderr"
        },
        {
          "output_type": "stream",
          "text": [
            "Epoch 10, Train Loss 0.0047627932590301545, Val Loss 0.013675765122492283, Val Accuracy 0.8148961661341853\n"
          ],
          "name": "stdout"
        },
        {
          "output_type": "stream",
          "text": [
            "100%|██████████| 938/938 [01:24<00:00, 11.05it/s]\n",
            "100%|██████████| 313/313 [00:10<00:00, 30.63it/s]\n",
            "  0%|          | 0/938 [00:00<?, ?it/s]"
          ],
          "name": "stderr"
        },
        {
          "output_type": "stream",
          "text": [
            "Epoch 11, Train Loss 0.0034015235195781427, Val Loss 0.0141284092799567, Val Accuracy 0.810702875399361\n"
          ],
          "name": "stdout"
        },
        {
          "output_type": "stream",
          "text": [
            "100%|██████████| 938/938 [01:25<00:00, 11.01it/s]\n",
            "100%|██████████| 313/313 [00:10<00:00, 30.29it/s]\n",
            "  0%|          | 0/938 [00:00<?, ?it/s]"
          ],
          "name": "stderr"
        },
        {
          "output_type": "stream",
          "text": [
            "Epoch 12, Train Loss 0.0022862926949360094, Val Loss 0.01470022461862086, Val Accuracy 0.8110023961661342\n"
          ],
          "name": "stdout"
        },
        {
          "output_type": "stream",
          "text": [
            "100%|██████████| 938/938 [01:25<00:00, 11.01it/s]\n",
            "100%|██████████| 313/313 [00:10<00:00, 30.31it/s]\n",
            "  0%|          | 0/938 [00:00<?, ?it/s]"
          ],
          "name": "stderr"
        },
        {
          "output_type": "stream",
          "text": [
            "Epoch 13, Train Loss 0.0014554584188630044, Val Loss 0.014968554092089113, Val Accuracy 0.8121006389776357\n"
          ],
          "name": "stdout"
        },
        {
          "output_type": "stream",
          "text": [
            "100%|██████████| 938/938 [01:25<00:00, 10.98it/s]\n",
            "100%|██████████| 313/313 [00:10<00:00, 30.63it/s]\n",
            "  0%|          | 0/938 [00:00<?, ?it/s]"
          ],
          "name": "stderr"
        },
        {
          "output_type": "stream",
          "text": [
            "Epoch 14, Train Loss 0.000911953258450878, Val Loss 0.014957908323754708, Val Accuracy 0.8141972843450479\n",
            "Epoch    14: reducing learning rate of group 0 to 1.0000e-06.\n"
          ],
          "name": "stdout"
        },
        {
          "output_type": "stream",
          "text": [
            "100%|██████████| 938/938 [01:25<00:00, 10.99it/s]\n",
            "100%|██████████| 313/313 [00:10<00:00, 30.52it/s]\n",
            "  0%|          | 0/938 [00:00<?, ?it/s]"
          ],
          "name": "stderr"
        },
        {
          "output_type": "stream",
          "text": [
            "Epoch 15, Train Loss 0.0012690867750180927, Val Loss 0.014551170627042032, Val Accuracy 0.819888178913738\n"
          ],
          "name": "stdout"
        },
        {
          "output_type": "stream",
          "text": [
            "100%|██████████| 938/938 [01:25<00:00, 11.00it/s]\n",
            "100%|██████████| 313/313 [00:10<00:00, 30.46it/s]\n",
            "  0%|          | 0/938 [00:00<?, ?it/s]"
          ],
          "name": "stderr"
        },
        {
          "output_type": "stream",
          "text": [
            "Epoch 16, Train Loss 0.0009170790726552158, Val Loss 0.014673160036472371, Val Accuracy 0.818091054313099\n"
          ],
          "name": "stdout"
        },
        {
          "output_type": "stream",
          "text": [
            "100%|██████████| 938/938 [01:24<00:00, 11.05it/s]\n",
            "100%|██████████| 313/313 [00:10<00:00, 30.57it/s]\n",
            "  0%|          | 0/938 [00:00<?, ?it/s]"
          ],
          "name": "stderr"
        },
        {
          "output_type": "stream",
          "text": [
            "Epoch 17, Train Loss 0.0007403232141888102, Val Loss 0.014773713893438586, Val Accuracy 0.8176916932907349\n"
          ],
          "name": "stdout"
        },
        {
          "output_type": "stream",
          "text": [
            "100%|██████████| 938/938 [01:24<00:00, 11.05it/s]\n",
            "100%|██████████| 313/313 [00:10<00:00, 30.75it/s]\n",
            "  0%|          | 0/938 [00:00<?, ?it/s]"
          ],
          "name": "stderr"
        },
        {
          "output_type": "stream",
          "text": [
            "Epoch 18, Train Loss 0.0006157082039955855, Val Loss 0.014867914959597892, Val Accuracy 0.8175918530351438\n"
          ],
          "name": "stdout"
        },
        {
          "output_type": "stream",
          "text": [
            "100%|██████████| 938/938 [01:24<00:00, 11.04it/s]\n",
            "100%|██████████| 313/313 [00:10<00:00, 30.40it/s]\n",
            "  0%|          | 0/938 [00:00<?, ?it/s]"
          ],
          "name": "stderr"
        },
        {
          "output_type": "stream",
          "text": [
            "Epoch 19, Train Loss 0.0005181141277716961, Val Loss 0.01496618861308732, Val Accuracy 0.818091054313099\n"
          ],
          "name": "stdout"
        },
        {
          "output_type": "stream",
          "text": [
            "100%|██████████| 938/938 [01:25<00:00, 11.02it/s]\n",
            "100%|██████████| 313/313 [00:10<00:00, 30.38it/s]"
          ],
          "name": "stderr"
        },
        {
          "output_type": "stream",
          "text": [
            "Epoch 20, Train Loss 0.0004385375511821749, Val Loss 0.015067377292845671, Val Accuracy 0.8178913738019169\n",
            "Epoch    20: reducing learning rate of group 0 to 1.0000e-07.\n"
          ],
          "name": "stdout"
        },
        {
          "output_type": "stream",
          "text": [
            "\n"
          ],
          "name": "stderr"
        }
      ]
    },
    {
      "cell_type": "code",
      "metadata": {
        "id": "EBztOZDeuLhx",
        "colab": {
          "base_uri": "https://localhost:8080/",
          "height": 350
        },
        "outputId": "52d30d84-c24b-4241-9462-a416d0c741eb"
      },
      "source": [
        "from utils import plot_train_graph\n",
        "plot_train_graph(train_loss_history_random=train_loss_history_random, val_loss_history_random=val_loss_history_random)"
      ],
      "execution_count": null,
      "outputs": [
        {
          "output_type": "display_data",
          "data": {
            "image/png": "[encoded data removed]",
            "text/plain": [
              "<Figure size 720x360 with 1 Axes>"
            ]
          },
          "metadata": {
            "tags": [],
            "needs_background": "light"
          }
        }
      ]
    },
    {
      "cell_type": "code",
      "metadata": {
        "id": "F_ikWKJ6uCOH",
        "colab": {
          "base_uri": "https://localhost:8080/",
          "height": 350
        },
        "outputId": "d0a98001-bdff-4348-a192-97a03a243574"
      },
      "source": [
        "plot_train_graph(train_loss_history_fixed=train_loss_history_fixed, val_loss_history_fixed=val_loss_history_fixed)"
      ],
      "execution_count": null,
      "outputs": [
        {
          "output_type": "display_data",
          "data": {
            "image/png": "[encoded data removed]",
            "text/plain": [
              "<Figure size 720x360 with 1 Axes>"
            ]
          },
          "metadata": {
            "tags": [],
            "needs_background": "light"
          }
        }
      ]
    }
  ]
}