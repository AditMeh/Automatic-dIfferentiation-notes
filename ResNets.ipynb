{
  "nbformat": 4,
  "nbformat_minor": 0,
  "metadata": {
    "colab": {
      "name": "ResNets.ipynb",
      "provenance": [],
      "collapsed_sections": [],
      "authorship_tag": "ABX9TyMq63ivgHYqiPKKoAZQALOP",
      "include_colab_link": true
    },
    "kernelspec": {
      "name": "python3",
      "display_name": "Python 3"
    }
  },
  "cells": [
    {
      "cell_type": "markdown",
      "metadata": {
        "id": "view-in-github",
        "colab_type": "text"
      },
      "source": [
        "<a href=\"https://colab.research.google.com/github/AditMeh/deep-learning/blob/main/ResNets.ipynb\" target=\"_parent\"><img src=\"https://colab.research.google.com/assets/colab-badge.svg\" alt=\"Open In Colab\"/></a>"
      ]
    },
    {
      "cell_type": "code",
      "metadata": {
        "colab": {
          "base_uri": "https://localhost:8080/"
        },
        "id": "3NOu5iEH0_eI",
        "outputId": "d652e6b6-da74-4f77-a284-459f4c389f2c"
      },
      "source": [
        "import keras \r\n",
        "import numpy as np\r\n",
        "import tensorflow as tf\r\n",
        "import tensorflow.keras.backend as K\r\n",
        "import matplotlib.pyplot as plt\r\n",
        "\r\n",
        "(train_images, train_labels), (test_images, test_labels) = keras.datasets.cifar10.load_data()\r\n",
        "\r\n",
        "print(train_images.shape)\r\n",
        "print(train_labels.shape)\r\n",
        "print(test_images.shape)\r\n",
        "print(test_labels.shape)"
      ],
      "execution_count": null,
      "outputs": [
        {
          "output_type": "stream",
          "text": [
            "Downloading data from https://www.cs.toronto.edu/~kriz/cifar-10-python.tar.gz\n",
            "170500096/170498071 [==============================] - 11s 0us/step\n",
            "(50000, 32, 32, 3)\n",
            "(50000, 1)\n",
            "(10000, 32, 32, 3)\n",
            "(10000, 1)\n"
          ],
          "name": "stdout"
        }
      ]
    },
    {
      "cell_type": "code",
      "metadata": {
        "id": "tNvkbyRo2KOO"
      },
      "source": [
        "from keras.utils import to_categorical\r\n",
        "import matplotlib.pyplot as plt\r\n",
        "import matplotlib.image as mpimg\r\n",
        "\r\n",
        "def process_images(image, label):\r\n",
        "    label =  tf.squeeze(tf.one_hot(label, depth  = 10))\r\n",
        "    return image, label\r\n",
        "\r\n",
        "val_train_split = round(0.80*len(train_images))\r\n",
        "\r\n",
        "val_images, val_labels = train_images[val_train_split:], train_labels[val_train_split:]\r\n",
        "\r\n",
        "train_ds = tf.data.Dataset.from_tensor_slices((train_images, train_labels))\r\n",
        "test_ds = tf.data.Dataset.from_tensor_slices((test_images, test_labels))\r\n",
        "validation_ds = tf.data.Dataset.from_tensor_slices((val_images, val_labels))\r\n",
        "\r\n",
        "train_dataset = (train_ds\r\n",
        "                  .map(process_images)\r\n",
        "                  .shuffle(buffer_size= 10)\r\n",
        "                  .batch(batch_size=128, drop_remainder=True))\r\n",
        "test_dataset = (test_ds\r\n",
        "                  .shuffle(buffer_size=10)\r\n",
        "                  .map(process_images)\r\n",
        "                  .batch(batch_size=128, drop_remainder=True))\r\n",
        "val_dataset = (validation_ds\r\n",
        "                  .map(process_images)\r\n",
        "                  .shuffle(buffer_size=10)\r\n",
        "                  .batch(batch_size=32, drop_remainder=True))\r\n"
      ],
      "execution_count": null,
      "outputs": []
    },
    {
      "cell_type": "code",
      "metadata": {
        "id": "MiETS5BK-2GP"
      },
      "source": [
        "class ResidualBlock(keras.layers.Layer):\r\n",
        "    def __init__(self, filters, pad):\r\n",
        "        super().__init__()\r\n",
        "        # self.conv1 = keras.layers.Conv2D(filters, kernel_size= (3, 3), \r\n",
        "        #                                  strides= 1,\r\n",
        "        #                                  padding = \"same\",\r\n",
        "        #                                  activation = \"relu\",\r\n",
        "        #                                  data_format=\"channels_last\",\r\n",
        "        #                                  kernel_initializer='GlorotNormal')\r\n",
        "            \r\n",
        "        # self.conv2 = keras.layers.Conv2D(filters, kernel_size = (3,3),\r\n",
        "        #                                  strides = 1,\r\n",
        "        #                                  padding = \"valid\",\r\n",
        "        #                                  activation = None,\r\n",
        "        #                                  data_format = \"channels_last\",\r\n",
        "        #                                  kernel_initializer = \"GlorotNormal\")\r\n",
        "            \r\n",
        "        #self.batchnorm1 = keras.layers.BatchNormalization()\r\n",
        "        #self.batchnorm2 = keras.layers.BatchNormalization()\r\n",
        "\r\n",
        "        #self.zero_padding = keras.layers.ZeroPadding2D(padding = (pad, pad), data_format= \"channels_last\")\r\n",
        "\r\n",
        "        def call(self, X):            \r\n",
        "            conv1 = self.conv1(X)\r\n",
        "            bn1 = self.batchnorm1(conv1)\r\n",
        "            conv2 = self.conv2(bn1)\r\n",
        "            bn2 = self.batchnorm2(conv2)\r\n",
        "\r\n",
        "            return keras.activations.activation.relu(bn2 + self.zero_padding(X))"
      ],
      "execution_count": null,
      "outputs": []
    },
    {
      "cell_type": "code",
      "metadata": {
        "colab": {
          "base_uri": "https://localhost:8080/"
        },
        "id": "zLAL3rtbRwBL",
        "outputId": "a7ebe455-4a3f-4f6b-ae3a-c5d179eadd80"
      },
      "source": [
        "model = ResidualBlock(32, 16)\r\n",
        "thing = np.ones((1, 32, 32, 3), dtype = np.float32)\r\n",
        "\r\n",
        "print(model.call(thing))\r\n",
        "#print(model.conv2(thing).shape)\r\n",
        "\r\n"
      ],
      "execution_count": null,
      "outputs": [
        {
          "output_type": "stream",
          "text": [
            "[[[[1. 1. 1.]\n",
            "   [1. 1. 1.]\n",
            "   [1. 1. 1.]\n",
            "   ...\n",
            "   [1. 1. 1.]\n",
            "   [1. 1. 1.]\n",
            "   [1. 1. 1.]]\n",
            "\n",
            "  [[1. 1. 1.]\n",
            "   [1. 1. 1.]\n",
            "   [1. 1. 1.]\n",
            "   ...\n",
            "   [1. 1. 1.]\n",
            "   [1. 1. 1.]\n",
            "   [1. 1. 1.]]\n",
            "\n",
            "  [[1. 1. 1.]\n",
            "   [1. 1. 1.]\n",
            "   [1. 1. 1.]\n",
            "   ...\n",
            "   [1. 1. 1.]\n",
            "   [1. 1. 1.]\n",
            "   [1. 1. 1.]]\n",
            "\n",
            "  ...\n",
            "\n",
            "  [[1. 1. 1.]\n",
            "   [1. 1. 1.]\n",
            "   [1. 1. 1.]\n",
            "   ...\n",
            "   [1. 1. 1.]\n",
            "   [1. 1. 1.]\n",
            "   [1. 1. 1.]]\n",
            "\n",
            "  [[1. 1. 1.]\n",
            "   [1. 1. 1.]\n",
            "   [1. 1. 1.]\n",
            "   ...\n",
            "   [1. 1. 1.]\n",
            "   [1. 1. 1.]\n",
            "   [1. 1. 1.]]\n",
            "\n",
            "  [[1. 1. 1.]\n",
            "   [1. 1. 1.]\n",
            "   [1. 1. 1.]\n",
            "   ...\n",
            "   [1. 1. 1.]\n",
            "   [1. 1. 1.]\n",
            "   [1. 1. 1.]]]]\n"
          ],
          "name": "stdout"
        }
      ]
    }
  ]
}