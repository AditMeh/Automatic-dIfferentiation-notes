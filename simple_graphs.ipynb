{
  "nbformat": 4,
  "nbformat_minor": 0,
  "metadata": {
    "colab": {
      "name": "simple_graphs.ipynb",
      "provenance": [],
      "collapsed_sections": [],
      "authorship_tag": "ABX9TyNGquU5bV5l3/hSkdfpAvy8",
      "include_colab_link": true
    },
    "kernelspec": {
      "name": "python3",
      "display_name": "Python 3"
    }
  },
  "cells": [
    {
      "cell_type": "markdown",
      "metadata": {
        "id": "view-in-github",
        "colab_type": "text"
      },
      "source": [
        "<a href=\"https://colab.research.google.com/github/AditMeh/Automatic-dIfferentiation-notes/blob/main/simple_graphs.ipynb\" target=\"_parent\"><img src=\"https://colab.research.google.com/assets/colab-badge.svg\" alt=\"Open In Colab\"/></a>"
      ]
    },
    {
      "cell_type": "markdown",
      "metadata": {
        "id": "lR-wmCl4L-_M"
      },
      "source": [
        "\n",
        "\n",
        "#### Imports\n"
      ]
    },
    {
      "cell_type": "code",
      "metadata": {
        "id": "pXJ1MVcLLy5u"
      },
      "source": [
        "import numpy as np\n",
        "import math"
      ],
      "execution_count": null,
      "outputs": []
    },
    {
      "cell_type": "markdown",
      "metadata": {
        "id": "Fi03FGJBMN_W"
      },
      "source": [
        "**Sources:**\n",
        "- https://stats.stackexchange.com/questions/224140/step-by-step-example-of-reverse-mode-automatic-differentiation\n",
        "\n",
        "- https://www.youtube.com/watch?v=EEbnprb_YTU&ab_channel=NathanSprague\n",
        "\n",
        "- https://www.youtube.com/watch?v=twTIGuVhKbQ&ab_channel=JorisGillis"
      ]
    },
    {
      "cell_type": "code",
      "metadata": {
        "id": "gVw-Y9d2MZFj"
      },
      "source": [
        ""
      ],
      "execution_count": null,
      "outputs": []
    }
  ]
}