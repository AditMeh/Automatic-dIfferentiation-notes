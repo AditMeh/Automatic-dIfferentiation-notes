{
  "nbformat": 4,
  "nbformat_minor": 0,
  "metadata": {
    "colab": {
      "name": "Siamese Net.ipynb",
      "provenance": [],
      "collapsed_sections": [],
      "include_colab_link": true
    },
    "kernelspec": {
      "name": "python3",
      "display_name": "Python 3"
    },
    "language_info": {
      "name": "python"
    },
    "accelerator": "GPU"
  },
  "cells": [
    {
      "cell_type": "markdown",
      "metadata": {
        "id": "view-in-github",
        "colab_type": "text"
      },
      "source": [
        "<a href=\"https://colab.research.google.com/github/AditMeh/deep-learning/blob/main/meta-learning/siamese_net/train_siamese_net.ipynb\" target=\"_parent\"><img src=\"https://colab.research.google.com/assets/colab-badge.svg\" alt=\"Open In Colab\"/></a>"
      ]
    },
    {
      "cell_type": "code",
      "metadata": {
        "id": "0qTj49irI9De",
        "colab": {
          "base_uri": "https://localhost:8080/"
        },
        "outputId": "2c1cf042-eebc-4b66-c7fe-2d5fde18b897"
      },
      "source": [
        "!git clone https://github.com/AditMeh/deep-learning"
      ],
      "execution_count": 1,
      "outputs": [
        {
          "output_type": "stream",
          "text": [
            "Cloning into 'deep-learning'...\n",
            "remote: Enumerating objects: 404, done.\u001b[K\n",
            "remote: Counting objects: 100% (404/404), done.\u001b[K\n",
            "remote: Compressing objects: 100% (279/279), done.\u001b[K\n",
            "remote: Total 404 (delta 197), reused 174 (delta 72), pack-reused 0\u001b[K\n",
            "Receiving objects: 100% (404/404), 24.44 MiB | 27.47 MiB/s, done.\n",
            "Resolving deltas: 100% (197/197), done.\n"
          ],
          "name": "stdout"
        }
      ]
    },
    {
      "cell_type": "code",
      "metadata": {
        "id": "ouxAmSGHJb2c"
      },
      "source": [
        "%%capture\n",
        "%cd ./deep-learning/meta-learning/siamese_net/\n",
        "!git clone https://github.com/brendenlake/omniglot\n",
        "%cd omniglot/python\n",
        "!unzip images_background.zip\n",
        "!unzip images_evaluation.zip\n",
        "%cd ../.."
      ],
      "execution_count": 2,
      "outputs": []
    },
    {
      "cell_type": "code",
      "metadata": {
        "id": "sPLIgu9XOqKF"
      },
      "source": [
        "from random import sample\n",
        "from dataloader import RandomPairSampler, Ommniglot_Dataset\n",
        "from torch.utils.data import DataLoader\n",
        "from utils import dataset_to_dicts\n",
        "from model import SiameseNet\n",
        "from train import train_fixed_dataset, train_random_samples\n",
        "import torch\n",
        "\n",
        "TRAIN_DATASET_PATH = \"omniglot/python/images_background/\"\n",
        "VALIDATION_DATASET_PATH = \"omniglot/python/images_evaluation/\"\n",
        "\n",
        "ds_train_structured, ds_train_unstructured = dataset_to_dicts(\n",
        "    TRAIN_DATASET_PATH)\n",
        "ds_val_structured, ds_val_unstructured = dataset_to_dicts(\n",
        "    VALIDATION_DATASET_PATH)\n",
        "\n",
        "train_dataset_random = RandomPairSampler(\n",
        "    dataset_dict=ds_train_unstructured, sample_mode=\"uniform\", is_val=False)\n",
        "\n",
        "val_dataset_random = RandomPairSampler(\n",
        "    dataset_dict=ds_val_unstructured, sample_mode=\"uniform\", is_val=True)\n",
        "\n",
        "train_loader_random = DataLoader(\n",
        "    train_dataset_random, batch_size=32, num_workers=2)\n",
        "\n",
        "val_loader_random = DataLoader(\n",
        "    val_dataset_random, batch_size=32, num_workers=2)"
      ],
      "execution_count": 3,
      "outputs": []
    },
    {
      "cell_type": "code",
      "metadata": {
        "id": "IAlSH2RSHYCc"
      },
      "source": [
        "train_dataset_fixed = RandomPairSampler(\n",
        "    dataset_dict=ds_train_structured, sample_mode=\"within alphabet\", is_val=False)\n",
        "\n",
        "val_dataset_fixed = RandomPairSampler(\n",
        "    dataset_dict=ds_val_structured, sample_mode=\"within alphabet\", is_val=True)\n",
        "\n",
        "train_loader_fixed = DataLoader(\n",
        "    train_dataset_fixed, batch_size=32, num_workers=2)\n",
        "\n",
        "val_loader_fixed = DataLoader(\n",
        "    val_dataset_fixed, batch_size=32, num_workers=2)"
      ],
      "execution_count": 4,
      "outputs": []
    },
    {
      "cell_type": "code",
      "metadata": {
        "id": "NImfWIEqKxnt",
        "colab": {
          "base_uri": "https://localhost:8080/",
          "height": 271
        },
        "outputId": "f880550c-7622-4786-be19-fed121fbcd7e"
      },
      "source": [
        "%matplotlib inline\n",
        "import matplotlib.pyplot as plt\n",
        "\n",
        "x1, x2, label = next(iter(val_loader_fixed))\n",
        "idx = 0\n",
        "\n",
        "images = [torch.squeeze(x1[idx]).cpu().detach().numpy(), torch.squeeze(x2[idx]).cpu().detach().numpy()]\n",
        "\n",
        "print(label[idx])\n",
        "\n",
        "w = 10\n",
        "h = 10\n",
        "fig = plt.figure(figsize=(8, 8))\n",
        "columns = 2\n",
        "rows = 1\n",
        "for i in range(1, columns*rows +1):\n",
        "    fig.add_subplot(rows, columns, i)\n",
        "    plt.imshow(images[i - 1], cmap='gray')\n",
        "plt.show()"
      ],
      "execution_count": 22,
      "outputs": [
        {
          "output_type": "stream",
          "text": [
            "tensor([1.])\n"
          ],
          "name": "stdout"
        },
        {
          "output_type": "display_data",
          "data": {
            "image/png": "[encoded data removed]",
            "text/plain": [
              "<Figure size 576x576 with 2 Axes>"
            ]
          },
          "metadata": {
            "tags": [],
            "needs_background": "light"
          }
        }
      ]
    },
    {
      "cell_type": "code",
      "metadata": {
        "id": "0d1O2sNKKwDd",
        "colab": {
          "base_uri": "https://localhost:8080/",
          "height": 418
        },
        "outputId": "2f933ebd-e61f-4c9c-fbf2-a6fb7e01e85d"
      },
      "source": [
        "device = (torch.device('cuda') if torch.cuda.is_available()\n",
        "            else torch.device('cpu'))\n",
        "\n",
        "print(f\"Training on device {device}.\")\n",
        "\n",
        "net = SiameseNet().to(device=device)\n",
        "\n",
        "train_random_samples(net, train_loader, val_loader, samples_per_epoch=30000, samples_val=10000, n_epochs=20,\n",
        "        lr=0.001, device=device, batch_size=32, save_path=\"blank\")"
      ],
      "execution_count": null,
      "outputs": [
        {
          "output_type": "stream",
          "text": [
            "Training on device cuda.\n",
            "Epoch 1, Train Loss 0.5076915073076884, Val Loss 0.4841767710208893, Val Accuracy 0.7789\n",
            "Epoch 2, Train Loss 0.3635839870929718, Val Loss 0.4132874802827835, Val Accuracy 0.81995\n",
            "Epoch 3, Train Loss 0.2584171751777331, Val Loss 0.3496463627576828, Val Accuracy 0.8528\n",
            "Epoch 4, Train Loss 0.18559684297243753, Val Loss 0.3432201575994492, Val Accuracy 0.85745\n",
            "Epoch 5, Train Loss 0.12793107129534084, Val Loss 0.3457467356801033, Val Accuracy 0.8574\n"
          ],
          "name": "stdout"
        },
        {
          "output_type": "error",
          "ename": "KeyboardInterrupt",
          "evalue": "ignored",
          "traceback": [
            "\u001b[0;31m---------------------------------------------------------------------------\u001b[0m",
            "\u001b[0;31mKeyboardInterrupt\u001b[0m                         Traceback (most recent call last)",
            "\u001b[0;32m<ipython-input-7-fef560bfe303>\u001b[0m in \u001b[0;36m<module>\u001b[0;34m()\u001b[0m\n\u001b[1;32m      7\u001b[0m \u001b[0;34m\u001b[0m\u001b[0m\n\u001b[1;32m      8\u001b[0m train(net, train_loader, val_loader, n_epochs=20,\n\u001b[0;32m----> 9\u001b[0;31m         lr=0.00001, device=device, batch_size=32, save_path=\"null\")\n\u001b[0m",
            "\u001b[0;32m/content/deep-learning/meta-learning/siamese_net/train.py\u001b[0m in \u001b[0;36mtrain\u001b[0;34m(net, train_loader, val_loader, n_epochs, lr, device, batch_size, save_path)\u001b[0m\n\u001b[1;32m     27\u001b[0m             \u001b[0moptimizer\u001b[0m\u001b[0;34m.\u001b[0m\u001b[0mstep\u001b[0m\u001b[0;34m(\u001b[0m\u001b[0;34m)\u001b[0m\u001b[0;34m\u001b[0m\u001b[0;34m\u001b[0m\u001b[0m\n\u001b[1;32m     28\u001b[0m \u001b[0;34m\u001b[0m\u001b[0m\n\u001b[0;32m---> 29\u001b[0;31m             \u001b[0mloss_train\u001b[0m \u001b[0;34m+=\u001b[0m \u001b[0mloss\u001b[0m\u001b[0;34m.\u001b[0m\u001b[0mitem\u001b[0m\u001b[0;34m(\u001b[0m\u001b[0;34m)\u001b[0m\u001b[0;34m\u001b[0m\u001b[0;34m\u001b[0m\u001b[0m\n\u001b[0m\u001b[1;32m     30\u001b[0m \u001b[0;34m\u001b[0m\u001b[0m\n\u001b[1;32m     31\u001b[0m         \u001b[0mloss_val\u001b[0m \u001b[0;34m=\u001b[0m \u001b[0;36m0.0\u001b[0m\u001b[0;34m\u001b[0m\u001b[0;34m\u001b[0m\u001b[0m\n",
            "\u001b[0;31mKeyboardInterrupt\u001b[0m: "
          ]
        }
      ]
    },
    {
      "cell_type": "code",
      "metadata": {
        "colab": {
          "base_uri": "https://localhost:8080/"
        },
        "id": "Elb81oG3ILlo",
        "outputId": "fb43a57b-6de8-43fd-8e41-19012de7f49d"
      },
      "source": [
        "device = (torch.device('cuda') if torch.cuda.is_available()\n",
        "            else torch.device('cpu'))\n",
        "\n",
        "print(f\"Training on device {device}.\")\n",
        "\n",
        "net = SiameseNet().to(device=device)\n",
        "\n",
        "train_fixed_dataset(net, train_loader=train_loader_fixed, val_loader=val_loader_fixed, n_epochs=20, lr=0.01, device=device, batch_size=32, save_path=\"wew\")"
      ],
      "execution_count": null,
      "outputs": [
        {
          "output_type": "stream",
          "text": [
            "Training on device cuda.\n"
          ],
          "name": "stdout"
        }
      ]
    }
  ]
}